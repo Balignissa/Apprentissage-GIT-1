{
  "nbformat": 4,
  "nbformat_minor": 0,
  "metadata": {
    "colab": {
      "name": "Devoir_DATA_COLLECTION",
      "provenance": [],
      "collapsed_sections": [],
      "mount_file_id": "1IraPN_5Wjgf5q50Ugw5HMAW2cgmfG43e",
      "authorship_tag": "ABX9TyO9opGmXM/AqTjdmoCOa2R2",
      "include_colab_link": true
    },
    "kernelspec": {
      "name": "python3",
      "display_name": "Python 3"
    },
    "language_info": {
      "name": "python"
    }
  },
  "cells": [
    {
      "cell_type": "markdown",
      "metadata": {
        "id": "view-in-github",
        "colab_type": "text"
      },
      "source": [
        "<a href=\"https://colab.research.google.com/github/Balignissa/Apprentissage-GIT-1/blob/main/Devoir_DATA_COLLECTION(BENANE%20Balignissa).ipynb\" target=\"_parent\"><img src=\"https://colab.research.google.com/assets/colab-badge.svg\" alt=\"Open In Colab\"/></a>"
      ]
    },
    {
      "cell_type": "code",
      "execution_count": 129,
      "metadata": {
        "id": "MyBUDjqsWtm0"
      },
      "outputs": [],
      "source": [
        "#Importer les bibliothèques\n",
        "import json\n",
        "from bs4 import BeautifulSoup\n",
        "from html.parser import HTMLParser\n",
        "from IPython.utils import text\n",
        "from lxml.html import*\n",
        "import html5lib\n",
        "from types import ClassMethodDescriptorType\n",
        "import requests\n"
      ]
    },
    {
      "cell_type": "code",
      "execution_count": 130,
      "metadata": {
        "id": "ASJSkODF-Q1C",
        "colab": {
          "base_uri": "https://localhost:8080/"
        },
        "outputId": "42663d1d-51ca-4cb1-e823-83b5e1d55e69"
      },
      "outputs": [
        {
          "output_type": "stream",
          "name": "stdout",
          "text": [
            "Drive already mounted at /content/drive; to attempt to forcibly remount, call drive.mount(\"/content/drive\", force_remount=True).\n"
          ]
        }
      ],
      "source": [
        "#Importer google drive et charger le fichier dans le drive\n",
        "from google.colab import drive\n",
        "drive.mount('/content/drive')"
      ]
    },
    {
      "cell_type": "code",
      "source": [
        "# Déclaration du lien de la base de données\n",
        "BASE_URL = ('/content/drive/MyDrive/Colab Notebooks/data-zIybdmYZoV4QSwgZkFtaB.html')"
      ],
      "metadata": {
        "id": "JHpykaYueHvj"
      },
      "execution_count": 131,
      "outputs": []
    },
    {
      "cell_type": "code",
      "source": [
        "\n",
        "# 1. Completer le code de HtmlFactory, afin de récupérer les données\n",
        "BASE_URL ='/content/drive/MyDrive/Colab Notebooks/data-zIybdmYZoV4QSwgZkFtaB.html'\n",
        "\n",
        "class HtmlFactory(object):\n",
        "\n",
        "    def openFile(cls):\n",
        "        with open(BASE_URL) as file:\n",
        "            data = BeautifulSoup(file.read(),'html.parser')\n",
        "            file.close()\n",
        "        return data"
      ],
      "metadata": {
        "id": "lB5HS5fBh_TJ"
      },
      "execution_count": 132,
      "outputs": []
    },
    {
      "cell_type": "code",
      "source": [
        "print(HtmlFactory.openFile(html))"
      ],
      "metadata": {
        "id": "tZM7FInjQ83e"
      },
      "execution_count": null,
      "outputs": []
    },
    {
      "cell_type": "code",
      "source": [
        "# 2. Mettre ces données sous forme de liste  d'object\n",
        "def inlist(BASE_URL, N):\n",
        "    N = 3\n",
        "#  Mettre en  N using list comprehension\n",
        "    with open(BASE_URL) as file:\n",
        "         data1=(file.read(), text)\n",
        "    # Mettre en N liste comprehension\n",
        "         data2 = [data1[i : i + N] for i in range(0, len(data1), N)]\n",
        "    return data2\n"
      ],
      "metadata": {
        "id": "T_SghR7yWm3K"
      },
      "execution_count": 133,
      "outputs": []
    },
    {
      "cell_type": "code",
      "source": [
        "print(inlist(BASE_URL='/content/drive/MyDrive/Colab Notebooks/data-zIybdmYZoV4QSwgZkFtaB.html', N=3))"
      ],
      "metadata": {
        "id": "Wke9qLYBRSMY"
      },
      "execution_count": null,
      "outputs": []
    },
    {
      "cell_type": "code",
      "source": [
        " #3.Assurez vous que les noeuds présents dans cette liste soient exactement comme dans CsvFactory, et JsonFactory\n",
        "def html_to_xlm (data2):\n",
        "    tree = html5lib.parse('<div attr=\"val\" U00022=\"\">', treebuilder='lxml', namespaceHTMLElements=False)\n",
        "    tree.write('data2', method='html')\n",
        "    return tree"
      ],
      "metadata": {
        "id": "N6IUQ89yUto_"
      },
      "execution_count": 134,
      "outputs": []
    },
    {
      "cell_type": "code",
      "source": [
        "tree = html_to_xlm(data2)\n",
        "print (tree)"
      ],
      "metadata": {
        "id": "q7zeF1xNn-LG"
      },
      "execution_count": null,
      "outputs": []
    },
    {
      "cell_type": "code",
      "source": [
        "\n",
        "'''4. Grace aux trois Factory, implémenter une méthode qui concatène tous les trois datas. C'est à dire:\n",
        "\t- Celui de CsvFactory\n",
        "\t- Celui de JsonFactory\n",
        "\t- Celui de HtmlFactory'''\n",
        "\n",
        "class Convert_lxlm_to():\n",
        "\n",
        "  def convert_to_Htlm(data4):\n",
        "\n",
        "    from lxml import etree\n",
        "    xslt_doc = etree. parse ( \"data4\" ) \n",
        "    xslt_transformer = etree. XSLT (data4)\n",
        "    source_doc = etree. parse ( \"data4.xml\" ) \n",
        "    output_doc = xslt_transformer (data4)\n",
        "    print ( str ( output_doc ) ) \n",
        "    output_doc. écrire ( \"output-toc.html\" , joli_print = True )\n",
        "    print(output_doc)\n",
        "    return output_doc\n",
        " \n",
        "  def convert_to_Csv(data4):\n",
        "    import xmltodict, csv\n",
        "    # PARSE XML FILE\n",
        "    with open(\"data4.xml\") as xmlfile:\n",
        "      xml = xmltodict.parse(xmlfile.read())\n",
        "    # CREATE CSV FILE\n",
        "      csvfile = open(\"data4.csv\",'w',encoding='utf-8')\n",
        "      csvfile_writer = csv.writer(csvfile)\n",
        "      print (csvfile)\n",
        "      return csvfile\n",
        "   \n",
        "  def convert_to_Json(data4):\n",
        "    import xmltodict\n",
        "    \n",
        "    xpars = xmltodict.parse(data4.text)\n",
        "    json = json.dumps(xpars)\n",
        "    print (json) \n",
        "    return json\n",
        "\n",
        "  def concatener(convert_to_Htlm, convert_to_Csv, convert_to_Json):\n",
        "    final_data = (convert_to_Htlm + convert_to_Csv + convert_to_Json)\n",
        "    return final_data\n",
        " "
      ],
      "metadata": {
        "id": "v5oOxzgF8338"
      },
      "execution_count": 135,
      "outputs": []
    },
    {
      "cell_type": "code",
      "source": [
        "data4 = tree\n",
        "A = Convert_lxlm_to()\n",
        "print(A.convert_to_Htlm)\n",
        "print (A.convert_to_Csv)\n",
        "print (A.convert_to_Json) \n",
        "print (A.concatener)"
      ],
      "metadata": {
        "id": "DfHUrAhR6mXT"
      },
      "execution_count": null,
      "outputs": []
    },
    {
      "cell_type": "code",
      "source": [
        "\n",
        "    \"\"\"5. Utiliser le lien de la BCEAO concernant les devises:\n",
        "\t- Ajouter une nouvelle entrée dans la donnée globale\n",
        "\t- Puis cette entrée doit contenir (Euro, Dollar, Yen)\n",
        "\t- Attribuer de manière aléatoire ces Devises\n",
        "\t- Grace aux données collecter via Scrapping du site de la BCEAO concernant les devises\n",
        "    \"\"\"\n",
        "   \n"
      ],
      "metadata": {
        "id": "kCDqD5Cd8k3H"
      },
      "execution_count": null,
      "outputs": []
    }
  ]
}